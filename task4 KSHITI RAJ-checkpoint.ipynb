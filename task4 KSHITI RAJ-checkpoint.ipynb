{
 "cells": [
  {
   "cell_type": "markdown",
   "id": "446bd658",
   "metadata": {},
   "source": [
    "## Task 4 (KSHITI RAJ)"
   ]
  },
  {
   "cell_type": "code",
   "execution_count": null,
   "id": "129cb055",
   "metadata": {},
   "outputs": [],
   "source": [
    "#1. SWAP CASE:\n",
    "\n",
    "def swap_case(s):\n",
    "    swapped= s.swapcase()\n",
    "    return swapped\n",
    "\n",
    "\n",
    "if __name__ == '__main__':\n",
    "    s = input()\n",
    "    result = swap_case(s)\n",
    "    print(result)"
   ]
  },
  {
   "cell_type": "code",
   "execution_count": null,
   "id": "2d89f400",
   "metadata": {},
   "outputs": [],
   "source": [
    "#2.  STRING SPLIT_JOIN:\n",
    "\n",
    "def split_and_join(line):\n",
    "    split= line.split(\" \")\n",
    "    final = \"-\".join(split)\n",
    "    return final\n",
    "\n",
    "if __name__ == '__main__':\n",
    "    line = input()\n",
    "    result = split_and_join(line)\n",
    "    print(result)"
   ]
  },
  {
   "cell_type": "code",
   "execution_count": null,
   "id": "cbdea151",
   "metadata": {},
   "outputs": [],
   "source": [
    "#3. WHAT'S YOUR FULLNAME:\n",
    "\n",
    "def print_full_name(first, last):\n",
    "    # Write your code here\n",
    "    print(\"Hello \"+first,last+\"! You just delved into python.\")\n",
    "\n",
    "if __name__ == '__main__':\n",
    "    first_name = input()\n",
    "    last_name = input()\n",
    "    print_full_name(first_name, last_name)"
   ]
  },
  {
   "cell_type": "code",
   "execution_count": null,
   "id": "2ec7822b",
   "metadata": {},
   "outputs": [],
   "source": [
    "#4. MUTATIONS:\n",
    "\n",
    "def mutate_string(string, position, character):\n",
    "    return string[ :position ]+ character + string[position+1:]\n",
    "    \n",
    "\n",
    "if __name__ == '__main__':\n",
    "    s = input()\n",
    "    i, c = input().split()\n",
    "    s_new = mutate_string(s, int(i), c)\n",
    "    print(s_new)"
   ]
  },
  {
   "cell_type": "code",
   "execution_count": null,
   "id": "e93f8f8e",
   "metadata": {},
   "outputs": [],
   "source": [
    "#5. FIND THE STRING:\n",
    "\n",
    "def count_substring(string, sub_string):\n",
    "    c=0\n",
    "    for i in range(len(string)):\n",
    "        if string[i:].startswith(sub_string):\n",
    "            c +=1\n",
    "    return c\n",
    "   \n",
    "\n",
    "if __name__ == '__main__':\n",
    "    string = input().strip()\n",
    "    sub_string = input().strip()\n",
    "    \n",
    "    count = count_substring(string, sub_string)\n",
    "    print(count)"
   ]
  },
  {
   "cell_type": "code",
   "execution_count": null,
   "id": "24db445d",
   "metadata": {},
   "outputs": [],
   "source": [
    "#6. STRING VALIDATORS:\n",
    "\n",
    "if __name__ == '__main__':\n",
    "    s = input()\n",
    "    \n",
    "    print(any([i.isalnum() for i in s]))\n",
    "    print(any([i.isalpha() for i in s]))\n",
    "    print(any([i.isdigit() for i in s]))\n",
    "    print(any([i.islower() for i in s]))\n",
    "    print(any([i.isupper() for i in s]))"
   ]
  },
  {
   "cell_type": "code",
   "execution_count": null,
   "id": "c70b2635",
   "metadata": {},
   "outputs": [],
   "source": [
    "#7. TEXT ALIGNMENT:\n",
    "\n",
    "thickness = int(input())\n",
    "c = 'H'\n",
    "\n",
    "#Top Cone\n",
    "for i in range(thickness):\n",
    "    print((c*i).rjust(thickness-1)+c+(c*i).ljust(thickness-1))\n",
    "\n",
    "#Top Pillars\n",
    "for i in range(thickness+1):\n",
    "    print((c*thickness).center(thickness*2)+(c*thickness).center(thickness*6))\n",
    "\n",
    "#Middle Belt\n",
    "for i in range((thickness+1)//2):\n",
    "    print((c*thickness*5).center(thickness*6))    \n",
    "\n",
    "#Bottom Pillars\n",
    "for i in range(thickness+1):\n",
    "    print((c*thickness).center(thickness*2)+(c*thickness).center(thickness*6))    \n",
    "\n",
    "#Bottom Cone\n",
    "for i in range(thickness):\n",
    "    print(((c*(thickness-i-1)).rjust(thickness)+c+(c*(thickness-i-1)).ljust(thickness)).rjust(thickness*6))"
   ]
  },
  {
   "cell_type": "code",
   "execution_count": null,
   "id": "7151a528",
   "metadata": {},
   "outputs": [],
   "source": [
    "#8. TEXT WRAP:\n",
    "\n",
    "import textwrap\n",
    "\n",
    "def wrap(string, max_width):\n",
    "    return textwrap.fill(string,max_width)\n",
    "    return\n",
    "\n",
    "if __name__ == '__main__':\n",
    "    string, max_width = input(), int(input())\n",
    "    result = wrap(string, max_width)\n",
    "    print(result)"
   ]
  },
  {
   "cell_type": "code",
   "execution_count": null,
   "id": "9b9682d9",
   "metadata": {},
   "outputs": [],
   "source": [
    "#9. DESIGN A DOOR MAT:\n",
    "\n",
    "height,width=list(map(int,input().split()))\n",
    "j=1\n",
    "for i in range(height):\n",
    "    if i<height//2 :\n",
    "      print((\".|.\"*j).center(width,\"-\"))\n",
    "      j+=2\n",
    "    elif i==height//2:\n",
    "        print(\"WELCOME\".center(width,\"-\"))\n",
    "    elif i>height//2 :\n",
    "      j-=2\n",
    "      print((\".|.\"*j).center(width,\"-\"))"
   ]
  },
  {
   "cell_type": "code",
   "execution_count": null,
   "id": "ac4b1feb",
   "metadata": {},
   "outputs": [],
   "source": [
    "#10. STRING FORMATTING:\n",
    "\n",
    "def print_formatted(number):\n",
    "    nbin = format(number,'b')\n",
    "    size = len(nbin)\n",
    "    for i in range(1,n+1):\n",
    "        octa = format(i,'o')\n",
    "        hexa = format(i,'X')\n",
    "        bina = format(i,'b')\n",
    "        \n",
    "        print(str(i).rjust(size),str(octa).rjust(size),str(hexa).rjust(size),str(bina).rjust(size))\n",
    "\n",
    "\n",
    "if __name__ == '__main__':\n",
    "    n = int(input())\n",
    "    print_formatted(n)"
   ]
  },
  {
   "cell_type": "code",
   "execution_count": 1,
   "id": "299b35d9",
   "metadata": {},
   "outputs": [],
   "source": [
    "#11. CAPITALIZE :\n",
    "\n",
    "def solve(s):\n",
    "    s = s.split(\" \")\n",
    "    return \" \".join(i.capitalize() for i in s)\n",
    "\n",
    "if __name__ == '__main__':\n",
    "    fptr = open(os.environ['OUTPUT_PATH'], 'w')\n",
    "\n",
    "    s = input()\n",
    "\n",
    "    result = solve(s)\n",
    "\n",
    "    fptr.write(result + '\\n')\n",
    "\n",
    "    fptr.close()"
   ]
  },
  {
   "cell_type": "code",
   "execution_count": null,
   "id": "3c7a8eca",
   "metadata": {},
   "outputs": [],
   "source": [
    "#12. MINION GAME:\n",
    "\n",
    "def minion_game(string):\n",
    "    vowel = \"AEIOU\"\n",
    "    S = 0\n",
    "    K = 0\n",
    "    L = len(string)\n",
    "    for i in range(L):\n",
    "        if string[i] in vowel:\n",
    "            K += L - i\n",
    "        else:\n",
    "            S += L - i\n",
    "    if S > K:\n",
    "        print(\"Stuart\", str(S))\n",
    "    elif K > S:\n",
    "        print(\"Kevin\", str(K))\n",
    "    else:\n",
    "        print(\"Draw\")\n",
    "\n",
    "\n",
    "if __name__ == '__main__':\n",
    "    s = input()\n",
    "    minion_game(s)"
   ]
  },
  {
   "cell_type": "code",
   "execution_count": null,
   "id": "e1e4546e",
   "metadata": {},
   "outputs": [],
   "source": [
    "#13. MERGE THE TOOLS:\n",
    "\n",
    "def merge_the_tools(string, k):\n",
    "    count = 0\n",
    "    st = ''\n",
    "    for i in string:\n",
    "        if i not in st:\n",
    "            st= st+i\n",
    "        count +=1\n",
    "        if count == k :\n",
    "            print(st)\n",
    "            count=0\n",
    "            st=''\n",
    "if __name__ == '__main__':\n",
    "    string, k = input(), int(input())\n",
    "    merge_the_tools(string, k)"
   ]
  },
  {
   "cell_type": "code",
   "execution_count": null,
   "id": "f58ad6f5",
   "metadata": {},
   "outputs": [],
   "source": []
  }
 ],
 "metadata": {
  "kernelspec": {
   "display_name": "Python 3 (ipykernel)",
   "language": "python",
   "name": "python3"
  },
  "language_info": {
   "codemirror_mode": {
    "name": "ipython",
    "version": 3
   },
   "file_extension": ".py",
   "mimetype": "text/x-python",
   "name": "python",
   "nbconvert_exporter": "python",
   "pygments_lexer": "ipython3",
   "version": "3.11.2"
  }
 },
 "nbformat": 4,
 "nbformat_minor": 5
}
